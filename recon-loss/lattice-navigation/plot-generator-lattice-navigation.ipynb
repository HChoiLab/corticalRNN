{
 "cells": [
  {
   "cell_type": "markdown",
   "id": "3b7b4504",
   "metadata": {},
   "source": [
    "#### Imports"
   ]
  },
  {
   "cell_type": "code",
   "execution_count": 1,
   "id": "0a562567",
   "metadata": {},
   "outputs": [],
   "source": [
    "import numpy as np\n",
    "import matplotlib.pyplot as plt\n",
    "import seaborn as sns\n",
    "import pandas as pd\n",
    "\n",
    "from tqdm import tqdm"
   ]
  },
  {
   "cell_type": "code",
   "execution_count": 2,
   "id": "1b5a1c06",
   "metadata": {},
   "outputs": [],
   "source": [
    "from mpl_toolkits.mplot3d import Axes3D\n",
    "\n",
    "%matplotlib inline\n",
    "%config InlineBackend.figure_format='retina'"
   ]
  },
  {
   "cell_type": "code",
   "execution_count": 3,
   "id": "b92491d7",
   "metadata": {},
   "outputs": [
    {
     "name": "stderr",
     "output_type": "stream",
     "text": [
      "C:\\Users\\abalwani6\\AppData\\Local\\Temp\\ipykernel_107828\\2414357448.py:1: MatplotlibDeprecationWarning: The seaborn styles shipped by Matplotlib are deprecated since 3.6, as they no longer correspond to the styles shipped by seaborn. However, they will remain available as 'seaborn-v0_8-<style>'. Alternatively, directly use the seaborn API instead.\n",
      "  plt.style.use('seaborn-whitegrid')\n"
     ]
    }
   ],
   "source": [
    "plt.style.use('seaborn-whitegrid')"
   ]
  },
  {
   "cell_type": "markdown",
   "id": "05d96392",
   "metadata": {},
   "source": [
    "#### Address, axes initializations"
   ]
  },
  {
   "cell_type": "code",
   "execution_count": 4,
   "id": "64d4dbe9",
   "metadata": {},
   "outputs": [],
   "source": [
    "pp = ## specify path"
   ]
  },
  {
   "cell_type": "code",
   "execution_count": 5,
   "id": "fb37d497",
   "metadata": {},
   "outputs": [],
   "source": [
    "arch_mods = ['Cortical Microcircuit','No Feedback','Bidirectional Feedback',\n",
    "             'Unidirectional Feedback','Same-sized Populations']"
   ]
  },
  {
   "cell_type": "markdown",
   "id": "c5506bf7",
   "metadata": {},
   "source": [
    "#### Initialise nRuns, n_epochs, noise values, PC dims, etc."
   ]
  },
  {
   "cell_type": "code",
   "execution_count": 6,
   "id": "e6edf0f4",
   "metadata": {},
   "outputs": [],
   "source": [
    "nRuns = 5\n",
    "n_epochs = 50 ## Keep this the same Suhee!!"
   ]
  },
  {
   "cell_type": "code",
   "execution_count": 7,
   "id": "b3fc9d78",
   "metadata": {},
   "outputs": [],
   "source": [
    "dims23 = np.array([1,2,4,8,16,32,64,80])\n",
    "dims4 = np.array([1,2,4,8,16,32])\n",
    "dims56 = np.array([1,2,4,8,16,32,64])"
   ]
  },
  {
   "cell_type": "code",
   "execution_count": 8,
   "id": "76407974",
   "metadata": {},
   "outputs": [],
   "source": [
    "noise_stds = np.linspace(0,5,6)\n",
    "noise_stds = np.round(noise_stds,3)\n",
    "noise_stds = noise_stds[1:]"
   ]
  },
  {
   "cell_type": "code",
   "execution_count": 9,
   "id": "698c8b66",
   "metadata": {},
   "outputs": [],
   "source": [
    "spatAccs = {}\n",
    "\n",
    "spatAccs[arch_mods[0]] = np.load(pp+'corticalRNN-spatial-noisy-accs-lattice.npy')[:,1:] + 1e-6\n",
    "spatAccs[arch_mods[1]] = np.load(pp+'no-fb-spatial-noisy-accs-lattice.npy')[:,1:] + 1e-6\n",
    "spatAccs[arch_mods[2]] = np.load(pp+'bidirectional-fb-spatial-noisy-accs-lattice.npy')[:,1:] + 1e-6\n",
    "spatAccs[arch_mods[3]] = np.load(pp+'unidirectional-fb-spatial-noisy-accs-lattice.npy')[:,1:] + 1e-6\n",
    "spatAccs[arch_mods[4]] = np.load(pp+'same-pop-spatial-noisy-accs-lattice.npy')[:,1:] + 1e-6"
   ]
  },
  {
   "cell_type": "code",
   "execution_count": null,
   "id": "e53f1dee",
   "metadata": {},
   "outputs": [],
   "source": [
    "cleanAccs = {}\n",
    "\n",
    "cleanAccs[arch_mods[0]] = np.load(pp+'corticalRNN-no-violations-accs-lattice.npy')\n",
    "cleanAccs[arch_mods[1]] = np.load(pp+'no-fb-no-violations-accs-lattice.npy')\n",
    "cleanAccs[arch_mods[2]] = np.load(pp+'bidirectional-fb-no-violations-accs-lattice.npy')\n",
    "cleanAccs[arch_mods[3]] = np.load(pp+'unidirectional-fb-no-violations-accs-lattice.npy')\n",
    "cleanAccs[arch_mods[4]] = np.load(pp+'same-pop-no-violations-accs-lattice.npy')"
   ]
  },
  {
   "cell_type": "markdown",
   "id": "22bfed79",
   "metadata": {},
   "source": [
    "#### Temporal violation plots"
   ]
  },
  {
   "cell_type": "code",
   "execution_count": null,
   "id": "42dc04bd",
   "metadata": {},
   "outputs": [],
   "source": [
    "cleanAccs = {}\n",
    "\n",
    "cleanAccs[arch_mods[0]] = np.load(pp+'corticalRNN-no-violations-accs-lattice.npy')\n",
    "cleanAccs[arch_mods[1]] = np.load(pp+'no-fb-no-violations-accs-lattice.npy')\n",
    "cleanAccs[arch_mods[2]] = np.load(pp+'bidirectional-fb-no-violations-accs-lattice.npy')\n",
    "cleanAccs[arch_mods[3]] = np.load(pp+'unidirectional-fb-no-violations-accs-lattice.npy')\n",
    "cleanAccs[arch_mods[4]] = np.load(pp+'same-pop-no-violations-accs-lattice.npy')"
   ]
  },
  {
   "cell_type": "code",
   "execution_count": null,
   "id": "d311a47b",
   "metadata": {},
   "outputs": [],
   "source": [
    "tempAccs = {}\n",
    "\n",
    "tempAccs[arch_mods[0]] = np.load(pp+'corticalRNN-temporal-violations-accs-lattice.npy')\n",
    "tempAccs[arch_mods[1]] = np.load(pp+'no-fb-temporal-violations-accs-lattice.npy')\n",
    "tempAccs[arch_mods[2]] = np.load(pp+'bidirectional-fb-temporal-violations-accs-lattice.npy')\n",
    "tempAccs[arch_mods[3]] = np.load(pp+'unidirectional-fb-temporal-violations-accs-lattice.npy')\n",
    "tempAccs[arch_mods[4]] = np.load(pp+'same-pop-temporal-violations-accs-lattice.npy')"
   ]
  },
  {
   "cell_type": "markdown",
   "id": "9f119a5c",
   "metadata": {},
   "source": [
    "#### Spatial-Temporal joint plots"
   ]
  },
  {
   "cell_type": "code",
   "execution_count": null,
   "id": "d08e5927",
   "metadata": {},
   "outputs": [],
   "source": [
    "df_joint = pd.DataFrame(columns=['Run','Epoch','Architecture','Accuracy','Violation'])"
   ]
  },
  {
   "cell_type": "code",
   "execution_count": null,
   "id": "1ab8554a",
   "metadata": {},
   "outputs": [],
   "source": [
    "for rr in range(nRuns):\n",
    "    \n",
    "    for cnt, mod in enumerate(arch_mods):\n",
    "        \n",
    "        for ee in range(n_epochs+1):\n",
    "            \n",
    "            arch_tp = [(k,v) for k,v in tempAccs.items()][cnt][0]\n",
    "            \n",
    "            acc_cl = [(k,v) for k,v in cleanAccs.items()][cnt][1][rr,ee]\n",
    "            df_joint.loc[len(df_joint)] = [rr,ee,arch_tp,acc_cl,'Clean']\n",
    "            \n",
    "            acc_tp = [(k,v) for k,v in tempAccs.items()][cnt][1][rr,ee]\n",
    "            df_joint.loc[len(df_joint)] = [rr,ee,arch_tp,acc_tp,'Temporal violation']\n",
    "            \n",
    "            for nn, noise in enumerate(noise_stds):\n",
    "            \n",
    "                arch_sp = [(k,v) for k,v in spatAccs.items()][cnt][0]\n",
    "\n",
    "                acc_sp = [(k,v) for k,v in spatAccs.items()][cnt][1][rr,nn,ee]\n",
    "\n",
    "                df_joint.loc[len(df_joint)] = [rr,ee,arch_sp,acc_sp,'Spatial violation']"
   ]
  },
  {
   "cell_type": "code",
   "execution_count": null,
   "id": "a8e35d4f",
   "metadata": {},
   "outputs": [],
   "source": [
    "df_joint_final = df_joint[df_joint[\"Epoch\"] == n_epochs]\n",
    "df_joint_init = df_joint[df_joint[\"Epoch\"] == 0]"
   ]
  },
  {
   "cell_type": "code",
   "execution_count": null,
   "id": "e479d31d",
   "metadata": {},
   "outputs": [],
   "source": [
    "cols_list = ['slategray','salmon','cornflowerblue']"
   ]
  },
  {
   "cell_type": "code",
   "execution_count": null,
   "id": "830c683a",
   "metadata": {},
   "outputs": [],
   "source": [
    "f_all = plt.figure(figsize=(12,5))\n",
    "sns.boxplot(data=df_joint, x='Architecture', y='Accuracy', hue=\"Violation\", palette=cols_list,\n",
    "            dodge=True,fliersize=0.0,width=0.8,whis=1)\n",
    "plt.legend(loc='center left', bbox_to_anchor=(1, 0.5))\n",
    "plt.title('Accuracy across Architectures in presence of Violations (Sequence Learning)')"
   ]
  },
  {
   "cell_type": "code",
   "execution_count": null,
   "id": "d13334b7",
   "metadata": {},
   "outputs": [],
   "source": [
    "f_final = plt.figure(figsize=(12,5))\n",
    "sns.boxplot(data=df_joint_final, x='Architecture', y='Accuracy', hue=\"Violation\", palette=cols_list,\n",
    "            dodge=True,fliersize=0.0,width=0.8,whis=1)\n",
    "plt.legend(loc='center left', bbox_to_anchor=(1, 0.5))\n",
    "plt.title('Accuracy across Architectures in presence of Violations (Sequence Learning)')"
   ]
  },
  {
   "cell_type": "code",
   "execution_count": null,
   "id": "032c2cc7",
   "metadata": {},
   "outputs": [],
   "source": [
    "f_all.savefig('Accuracy-across-Violations-iclr-all-lattice.png',dpi=300,bbox_inches='tight')\n",
    "f_all.savefig('Accuracy-across-Violations-iclr-all-lattice.svg',dpi=300,bbox_inches='tight')"
   ]
  },
  {
   "cell_type": "code",
   "execution_count": null,
   "id": "3d75749c",
   "metadata": {},
   "outputs": [],
   "source": [
    "f_final.savefig('Accuracy-across-Violations-iclr-final-lattice.png',dpi=300,bbox_inches='tight')\n",
    "f_final.savefig('Accuracy-across-Violations-iclr-final-lattice.svg',dpi=300,bbox_inches='tight')"
   ]
  },
  {
   "cell_type": "markdown",
   "id": "2514451c",
   "metadata": {},
   "source": [
    "#### Dimensionality plots"
   ]
  },
  {
   "cell_type": "code",
   "execution_count": null,
   "id": "c7b7e72c",
   "metadata": {},
   "outputs": [],
   "source": [
    "rnnNames = ['L4','L23','L56','H4','H23','H56']"
   ]
  },
  {
   "cell_type": "code",
   "execution_count": null,
   "id": "893e28a4",
   "metadata": {},
   "outputs": [],
   "source": [
    "DGs = {}\n",
    "\n",
    "for rnn in rnnNames:\n",
    "    DGs[arch_mods[0],rnn] = np.load(pp+rnn+'DG_corticalRNN_lattice.npy')\n",
    "    DGs[arch_mods[1],rnn] = np.load(pp+rnn+'DG_no-fb_lattice.npy')\n",
    "    DGs[arch_mods[2],rnn] = np.load(pp+rnn+'DG_bidirectional-fb_lattice.npy')\n",
    "    DGs[arch_mods[3],rnn] = np.load(pp+rnn+'DG_unidirectional-fb_lattice.npy')\n",
    "    DGs[arch_mods[4],rnn] = np.load(pp+rnn+'DG_same-pop_lattice.npy')"
   ]
  },
  {
   "cell_type": "code",
   "execution_count": null,
   "id": "6e9b3cc9",
   "metadata": {},
   "outputs": [],
   "source": [
    "df_dg = pd.DataFrame(columns=['Run','Epoch','Architecture','DG','RNN','Hierarchy'])"
   ]
  },
  {
   "cell_type": "code",
   "execution_count": null,
   "id": "a7f82521",
   "metadata": {},
   "outputs": [],
   "source": [
    "for cntr in range(len(rnnNames)*nRuns):\n",
    "    \n",
    "    arch = [(k,v) for k,v in DGs.items()][cntr][0][0]\n",
    "    rnn = [(k,v) for k,v in DGs.items()][cntr][0][1]\n",
    "        \n",
    "    for rr in range(nRuns):\n",
    "        for ee in range(n_epochs+1):\n",
    "            \n",
    "            dg = [(k,v) for k,v in DGs.items()][cntr][1][rr,ee]\n",
    "            df_dg.loc[len(df_dg)] = [rr,ee,arch,dg,rnn,rnn[0]]"
   ]
  },
  {
   "cell_type": "code",
   "execution_count": null,
   "id": "bb83042e",
   "metadata": {},
   "outputs": [],
   "source": [
    "dg_plot = sns.relplot(data=df_dg, x='Epoch', y='DG', hue=\"Hierarchy\", palette='Set1',kind='line',ci=80,\n",
    "            style=\"Hierarchy\",col=\"Architecture\",height=5, aspect=1)"
   ]
  },
  {
   "cell_type": "code",
   "execution_count": null,
   "id": "34c30ed3",
   "metadata": {},
   "outputs": [],
   "source": [
    "dg2_plot = sns.relplot(data=df_dg, x='Epoch', y='DG', hue=\"RNN\", palette='tab10',kind='line',ci=60,\n",
    "            style=\"Hierarchy\",col=\"Architecture\",height=5, aspect=0.9)\n",
    "dg2_plot.fig.suptitle('Dimensionality Gain across Architectures (Sequence Learning)',y=1.05)"
   ]
  },
  {
   "cell_type": "code",
   "execution_count": null,
   "id": "6fd7a197",
   "metadata": {},
   "outputs": [],
   "source": [
    "dg_plot.savefig('DG-across-archs-iclr-lattice.png',dpi=300,bbox_inches='tight')\n",
    "dg_plot.savefig('DG-across-archs-iclr-lattice.svg',dpi=300,bbox_inches='tight')"
   ]
  },
  {
   "cell_type": "code",
   "execution_count": null,
   "id": "6d3af820",
   "metadata": {},
   "outputs": [],
   "source": [
    "dg2_plot.savefig('DG-across-archs-iclr-lattice-layers.png',dpi=300,bbox_inches='tight')\n",
    "dg2_plot.savefig('DG-across-archs-iclr-lattice-layers.svg',dpi=300,bbox_inches='tight')"
   ]
  },
  {
   "cell_type": "markdown",
   "id": "47d075e4",
   "metadata": {},
   "source": [
    "#### Decodability"
   ]
  },
  {
   "cell_type": "code",
   "execution_count": null,
   "id": "6f6a5ea6",
   "metadata": {},
   "outputs": [],
   "source": [
    "accs_temp_img = {}\n",
    "\n",
    "for rnn in rnnNames:\n",
    "    accs_temp_img[arch_mods[0],rnn] = np.load(pp+'accs_img_temp_'+rnn+'-corticalRNN-lattice.npy',allow_pickle=True)\n",
    "    accs_temp_img[arch_mods[1],rnn] = np.load(pp+'accs_img_temp_'+rnn+'-no-fb-lattice.npy',allow_pickle=True)\n",
    "    accs_temp_img[arch_mods[2],rnn] = np.load(pp+'accs_img_temp_'+rnn+'-bidirectional-fb-lattice.npy',allow_pickle=True)\n",
    "    accs_temp_img[arch_mods[3],rnn] = np.load(pp+'accs_img_temp_'+rnn+'-unidirectional-fb-lattice.npy',allow_pickle=True)\n",
    "    accs_temp_img[arch_mods[4],rnn] = np.load(pp+'accs_img_temp_'+rnn+'-same-pop-lattice.npy',allow_pickle=True)"
   ]
  },
  {
   "cell_type": "code",
   "execution_count": null,
   "id": "cbd147e5",
   "metadata": {},
   "outputs": [],
   "source": [
    "accs_temp_pos = {}\n",
    "\n",
    "for rnn in rnnNames:\n",
    "    accs_temp_pos[arch_mods[0],rnn] = np.load(pp+'accs_pos_temp_'+rnn+'-corticalRNN-lattice.npy',allow_pickle=True)\n",
    "    accs_temp_pos[arch_mods[1],rnn] = np.load(pp+'accs_pos_temp_'+rnn+'-no-fb-lattice.npy',allow_pickle=True)\n",
    "    accs_temp_pos[arch_mods[2],rnn] = np.load(pp+'accs_pos_temp_'+rnn+'-bidirectional-fb-lattice.npy',allow_pickle=True)\n",
    "    accs_temp_pos[arch_mods[3],rnn] = np.load(pp+'accs_pos_temp_'+rnn+'-unidirectional-fb-lattice.npy',allow_pickle=True)\n",
    "    accs_temp_pos[arch_mods[4],rnn] = np.load(pp+'accs_pos_temp_'+rnn+'-same-pop-lattice.npy',allow_pickle=True)"
   ]
  },
  {
   "cell_type": "code",
   "execution_count": null,
   "id": "c1559f16",
   "metadata": {},
   "outputs": [],
   "source": [
    "accs_temp_surp = {}\n",
    "\n",
    "for rnn in rnnNames:\n",
    "    accs_temp_surp[arch_mods[0],rnn] = np.load(pp+'accs_surp_temp_'+rnn+'-corticalRNN-lattice.npy',allow_pickle=True)\n",
    "    accs_temp_surp[arch_mods[1],rnn] = np.load(pp+'accs_surp_temp_'+rnn+'-no-fb-lattice.npy',allow_pickle=True)\n",
    "    accs_temp_surp[arch_mods[2],rnn] = np.load(pp+'accs_surp_temp_'+rnn+'-bidirectional-fb-lattice.npy',allow_pickle=True)\n",
    "    accs_temp_surp[arch_mods[3],rnn] = np.load(pp+'accs_surp_temp_'+rnn+'-unidirectional-fb-lattice.npy',allow_pickle=True)\n",
    "    accs_temp_surp[arch_mods[4],rnn] = np.load(pp+'accs_surp_temp_'+rnn+'-same-pop-lattice.npy',allow_pickle=True)"
   ]
  },
  {
   "cell_type": "code",
   "execution_count": null,
   "id": "be4d026b",
   "metadata": {},
   "outputs": [],
   "source": [
    "preds_temp_surp = {}\n",
    "\n",
    "for rnn in rnnNames:\n",
    "    preds_temp_surp[arch_mods[0],rnn] = np.load(pp+'preds_surp_temp_'+rnn+'-corticalRNN-lattice.npy',allow_pickle=True)\n",
    "    preds_temp_surp[arch_mods[1],rnn] = np.load(pp+'preds_surp_temp_'+rnn+'-no-fb-lattice.npy',allow_pickle=True)\n",
    "    preds_temp_surp[arch_mods[2],rnn] = np.load(pp+'preds_surp_temp_'+rnn+'-bidirectional-fb-lattice.npy',allow_pickle=True)\n",
    "    preds_temp_surp[arch_mods[3],rnn] = np.load(pp+'preds_surp_temp_'+rnn+'-unidirectional-fb-lattice.npy',allow_pickle=True)\n",
    "    preds_temp_surp[arch_mods[4],rnn] = np.load(pp+'preds_surp_temp_'+rnn+'-same-pop-lattice.npy',allow_pickle=True)"
   ]
  },
  {
   "cell_type": "code",
   "execution_count": null,
   "id": "9f303077",
   "metadata": {},
   "outputs": [],
   "source": [
    "df_temp_img = pd.DataFrame(columns=['Run','Epoch','Architecture','Accuracy','PC Dimension','RNN','Hierarchy'])\n",
    "df_temp_pos = pd.DataFrame(columns=['Run','Epoch','Architecture','Accuracy','PC Dimension','RNN','Hierarchy'])\n",
    "df_temp_surp = pd.DataFrame(columns=['Run','Epoch','Architecture','Accuracy','PC Dimension','RNN','Hierarchy'])"
   ]
  },
  {
   "cell_type": "code",
   "execution_count": null,
   "id": "2964d76d",
   "metadata": {},
   "outputs": [],
   "source": [
    "for cntr in tqdm(range(len(rnnNames)*nRuns)):\n",
    "    \n",
    "    arch = [(k,v) for k,v in accs_temp_img.items()][cntr][0][0]\n",
    "    rnn = [(k,v) for k,v in accs_temp_img.items()][cntr][0][1]\n",
    "        \n",
    "    for rr in range(nRuns):\n",
    "        for ee in range(n_epochs+1):\n",
    "            \n",
    "            if rnn[-1]=='4':\n",
    "                for pc in dims4:\n",
    "                    acc = [(k,v) for k,v in accs_temp_img.items()][cntr][1].item()[rr,pc,ee]\n",
    "                    df_temp_img.loc[len(df_temp_img)] = [rr,ee,arch,acc,pc,rnn,rnn[0]]\n",
    "            else:\n",
    "                for pc in dims23:\n",
    "                    acc = [(k,v) for k,v in accs_temp_img.items()][cntr][1].item()[rr,pc,ee]\n",
    "                    df_temp_img.loc[len(df_temp_img)] = [rr,ee,arch,acc,pc,rnn,rnn[0]]"
   ]
  },
  {
   "cell_type": "code",
   "execution_count": null,
   "id": "b5046766",
   "metadata": {},
   "outputs": [],
   "source": [
    "for cntr in tqdm(range(len(rnnNames)*nRuns)):\n",
    "    \n",
    "    arch = [(k,v) for k,v in accs_temp_pos.items()][cntr][0][0]\n",
    "    rnn = [(k,v) for k,v in accs_temp_pos.items()][cntr][0][1]\n",
    "        \n",
    "    for rr in range(nRuns):\n",
    "        for ee in range(n_epochs+1):\n",
    "            \n",
    "            if rnn[-1]=='4':\n",
    "                for pc in dims4:\n",
    "                    acc = [(k,v) for k,v in accs_temp_pos.items()][cntr][1].item()[rr,pc,ee]\n",
    "                    df_temp_pos.loc[len(df_temp_pos)] = [rr,ee,arch,acc,pc,rnn,rnn[0]]\n",
    "            else:\n",
    "                for pc in dims23:\n",
    "                    acc = [(k,v) for k,v in accs_temp_pos.items()][cntr][1].item()[rr,pc,ee]\n",
    "                    df_temp_pos.loc[len(df_temp_pos)] = [rr,ee,arch,acc,pc,rnn,rnn[0]]"
   ]
  },
  {
   "cell_type": "code",
   "execution_count": null,
   "id": "ac2b06a7",
   "metadata": {},
   "outputs": [],
   "source": [
    "for cntr in tqdm(range(len(rnnNames)*nRuns)):\n",
    "    \n",
    "    arch = [(k,v) for k,v in accs_temp_surp.items()][cntr][0][0]\n",
    "    rnn = [(k,v) for k,v in accs_temp_surp.items()][cntr][0][1]\n",
    "        \n",
    "    for rr in range(nRuns):\n",
    "        for ee in range(n_epochs+1):\n",
    "            \n",
    "            if rnn[-1]=='4':\n",
    "                for pc in dims4:\n",
    "                    acc = [(k,v) for k,v in accs_temp_surp.items()][cntr][1].item()[rr,pc,ee]\n",
    "                    df_temp_surp.loc[len(df_temp_surp)] = [rr,ee,arch,acc,pc,rnn,rnn[0]]\n",
    "            else:\n",
    "                for pc in dims23:\n",
    "                    acc = [(k,v) for k,v in accs_temp_surp.items()][cntr][1].item()[rr,pc,ee]\n",
    "                    df_temp_surp.loc[len(df_temp_surp)] = [rr,ee,arch,acc,pc,rnn,rnn[0]]"
   ]
  },
  {
   "cell_type": "markdown",
   "id": "aa8330a7",
   "metadata": {},
   "source": [
    "#### Decoding surprise at init"
   ]
  },
  {
   "cell_type": "code",
   "execution_count": null,
   "id": "da2cdae9",
   "metadata": {},
   "outputs": [],
   "source": [
    "arch_mods"
   ]
  },
  {
   "cell_type": "code",
   "execution_count": null,
   "id": "0d6852e1",
   "metadata": {},
   "outputs": [],
   "source": [
    "ix = df_temp_surp['Epoch'] == 0\n",
    "df_init_surp = df_temp_surp[ix]"
   ]
  },
  {
   "cell_type": "code",
   "execution_count": null,
   "id": "51a013b6",
   "metadata": {},
   "outputs": [],
   "source": [
    "ixFB = np.vstack((\n",
    "                  (np.where((df_init_surp['RNN']=='L23')*(df_init_surp['Architecture']==arch_mods[0])>0)[0]),\n",
    "    (np.where((df_init_surp['RNN']=='L56')*(df_init_surp['Architecture']==arch_mods[0])>0)[0]),\n",
    "    (np.where((df_init_surp['RNN']=='L23')*(df_init_surp['Architecture']==arch_mods[2])>0)[0]),\n",
    "    (np.where((df_init_surp['RNN']=='L56')*(df_init_surp['Architecture']==arch_mods[3])>0)[0]),\n",
    "    (np.where((df_init_surp['RNN']=='L23')*(df_init_surp['Architecture']==arch_mods[4])>0)[0]),\n",
    "    (np.where((df_init_surp['RNN']=='L56')*(df_init_surp['Architecture']==arch_mods[4])>0)[0])\n",
    "))\n",
    "\n",
    "ixFB = ixFB.ravel()\n",
    "fb_indicator = np.array(['Other']*len(df_init_surp))\n",
    "fb_indicator[ixFB] = 'FB'\n",
    "fb_indicator = list(fb_indicator)"
   ]
  },
  {
   "cell_type": "code",
   "execution_count": null,
   "id": "0392cdbb",
   "metadata": {},
   "outputs": [],
   "source": [
    "df_init_surp['Feedback Indicator'] = fb_indicator"
   ]
  },
  {
   "cell_type": "code",
   "execution_count": null,
   "id": "d8c2b0a9",
   "metadata": {},
   "outputs": [],
   "source": [
    "f = plt.figure(figsize=(15,5))\n",
    "sns.barplot(data=df_temp_surp[ix], x='Architecture', y='Accuracy', hue=\"RNN\", palette='tab10',ci=50)\n",
    "plt.legend(loc='center left', bbox_to_anchor=(1, 0.5))\n",
    "plt.title('Temporal Unexpectedness Decoding Accuracy across Architectures at Initialization')"
   ]
  },
  {
   "cell_type": "code",
   "execution_count": null,
   "id": "97c3ec97",
   "metadata": {},
   "outputs": [],
   "source": [
    "cols_dark = ['#1b9e77','#d95f02']\n",
    "cols_dark_r = ['#7570b3','#1b9e77']"
   ]
  },
  {
   "cell_type": "code",
   "execution_count": null,
   "id": "58ae3282",
   "metadata": {},
   "outputs": [],
   "source": [
    "fsurpinit = plt.figure(figsize=(6.5,5))\n",
    "sns.barplot(data=df_init_surp, x='Architecture', y='Accuracy', hue=\"Feedback Indicator\", palette=cols_dark_r,ci=50,saturation=1)\n",
    "plt.legend(loc='center left', bbox_to_anchor=(1, 0.5))\n",
    "plt.title('Temporal Unexpectedness Decoding Accuracy across\\n Architectures at Initialization (Binary Prediction)')\n",
    "plt.xticks(np.arange(len(arch_mods)),\n",
    "           ['Cortical\\nMicrocircuit','No\\nFeedack','Bidirectional\\nFeedback',\n",
    "            'Unidirectional\\nFeedback','Same-sized\\nPopulations'])\n",
    "plt.show()"
   ]
  },
  {
   "cell_type": "code",
   "execution_count": null,
   "id": "97a51cfb",
   "metadata": {},
   "outputs": [],
   "source": [
    "fsurpinit.savefig('Accs-surp-init-across-archs-iclr-lattice.png',dpi=300,bbox_inches='tight')\n",
    "fsurpinit.savefig('Accs-surp-init-across-archs-iclr-lattice.svg',dpi=300,bbox_inches='tight')"
   ]
  },
  {
   "cell_type": "markdown",
   "id": "28b4db98",
   "metadata": {},
   "source": [
    "#### Joint temporal violin plots"
   ]
  },
  {
   "cell_type": "code",
   "execution_count": null,
   "id": "3cd8c5ac",
   "metadata": {},
   "outputs": [],
   "source": [
    "ix_img = df_temp_img['Architecture'] == arch_mods[0]\n",
    "ix_pos = df_temp_pos['Architecture'] == arch_mods[0]\n",
    "ix_surp = df_temp_surp['Architecture'] == arch_mods[0]"
   ]
  },
  {
   "cell_type": "code",
   "execution_count": null,
   "id": "518e5c81",
   "metadata": {},
   "outputs": [],
   "source": [
    "df_temporal_violations = pd.concat([df_temp_img[ix_img], df_temp_pos[ix_pos], df_temp_surp[ix_surp]])"
   ]
  },
  {
   "cell_type": "code",
   "execution_count": null,
   "id": "a3696af5",
   "metadata": {},
   "outputs": [],
   "source": [
    "df_temporal_violations['Decoding Variable'] = ['Input ID (Temporal Violation)']*sum(ix_img) + ['Temporal Position']*sum(ix_pos) + ['Temporal Surprise']*sum(ix_surp)"
   ]
  },
  {
   "cell_type": "code",
   "execution_count": null,
   "id": "9c48822d",
   "metadata": {},
   "outputs": [],
   "source": [
    "df_temporal_violations_final = df_temporal_violations[df_temporal_violations[\"Epoch\"]==n_epochs]\n",
    "df_temporal_violations_init = df_temporal_violations[df_temporal_violations[\"Epoch\"]==0]"
   ]
  },
  {
   "cell_type": "code",
   "execution_count": null,
   "id": "e5d04d80",
   "metadata": {},
   "outputs": [],
   "source": [
    "figTaskVariables_all = plt.figure(figsize=(12,4))\n",
    "sns.violinplot(data=df_temporal_violations, x='Decoding Variable', y='Accuracy', hue=\"RNN\", palette='tab10',\n",
    "            dodge=True,fliersize=0.0,width=0.8,whis=0.5,bw=0.2,scale='width',linewidth=1)\n",
    "plt.legend(loc='center left', bbox_to_anchor=(1, 0.5))\n",
    "plt.title('Decoding Accuracies in the Cortical Microcircuit across Task variables (Lattice Navigation - All)')"
   ]
  },
  {
   "cell_type": "code",
   "execution_count": null,
   "id": "d503bbe2",
   "metadata": {},
   "outputs": [],
   "source": [
    "figTaskVariables_init = plt.figure(figsize=(12,4))\n",
    "sns.violinplot(data=df_temporal_violations_init, x='Decoding Variable', y='Accuracy', hue=\"RNN\", palette='tab10',\n",
    "            dodge=True,fliersize=0.0,width=0.8,whis=0.5,bw=0.2,scale='width',linewidth=1)\n",
    "plt.legend(loc='center left', bbox_to_anchor=(1, 0.5))\n",
    "plt.title('Decoding Accuracies in the Cortical Microcircuit across Task variables (Lattice Navigation - Init)')"
   ]
  },
  {
   "cell_type": "code",
   "execution_count": null,
   "id": "e2009f3a",
   "metadata": {},
   "outputs": [],
   "source": [
    "figTaskVariables_final = plt.figure(figsize=(12,4))\n",
    "sns.violinplot(data=df_temporal_violations_final, x='Decoding Variable', y='Accuracy', hue=\"RNN\", palette='tab10',\n",
    "            dodge=True,fliersize=0.0,width=0.8,whis=0.5,bw=0.2,scale='width',linewidth=1)\n",
    "plt.legend(loc='center left', bbox_to_anchor=(1, 0.5))\n",
    "plt.title('Decoding Accuracies in the Cortical Microcircuit across Task variables (Lattice Navigation - Final)')"
   ]
  },
  {
   "cell_type": "code",
   "execution_count": null,
   "id": "d47897c8",
   "metadata": {},
   "outputs": [],
   "source": [
    "figTaskVariables_all.savefig('Accs-across-task-vars-iclr-all-lattice.png',dpi=300,bbox_inches='tight')\n",
    "figTaskVariables_all.savefig('Accs-across-task-vars-iclr-all-lattice.svg',dpi=300,bbox_inches='tight')"
   ]
  },
  {
   "cell_type": "code",
   "execution_count": null,
   "id": "e5883615",
   "metadata": {},
   "outputs": [],
   "source": [
    "figTaskVariables_init.savefig('Accs-across-task-vars-iclr-init-lattice.png',dpi=300,bbox_inches='tight')\n",
    "figTaskVariables_init.savefig('Accs-across-task-vars-iclr-init-lattice.svg',dpi=300,bbox_inches='tight')"
   ]
  },
  {
   "cell_type": "code",
   "execution_count": null,
   "id": "d110ec2f",
   "metadata": {},
   "outputs": [],
   "source": [
    "figTaskVariables_final.savefig('Accs-across-task-vars-iclr-final-lattice.png',dpi=300,bbox_inches='tight')\n",
    "figTaskVariables_final.savefig('Accs-across-task-vars-iclr-final-lattice.svg',dpi=300,bbox_inches='tight')"
   ]
  }
 ],
 "metadata": {
  "kernelspec": {
   "display_name": "Python 3 (ipykernel)",
   "language": "python",
   "name": "python3"
  },
  "language_info": {
   "codemirror_mode": {
    "name": "ipython",
    "version": 3
   },
   "file_extension": ".py",
   "mimetype": "text/x-python",
   "name": "python",
   "nbconvert_exporter": "python",
   "pygments_lexer": "ipython3",
   "version": "3.10.9"
  }
 },
 "nbformat": 4,
 "nbformat_minor": 5
}
